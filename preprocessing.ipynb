{
 "cells": [
  {
   "cell_type": "code",
   "execution_count": 1,
   "id": "46935b41",
   "metadata": {},
   "outputs": [],
   "source": [
    "import numpy as np\n",
    "import os\n",
    "import cv2\n",
    "import matplotlib.pyplot as plt"
   ]
  },
  {
   "cell_type": "code",
   "execution_count": 2,
   "id": "6c425158",
   "metadata": {},
   "outputs": [],
   "source": [
    "original_images = 'mirflickr/'\n",
    "lr_images = 'lr_images/'\n",
    "hr_images = 'hr_images/'\n",
    "\n",
    "os.mkdir(lr_images)\n",
    "os.mkdir(hr_images)\n"
   ]
  },
  {
   "cell_type": "code",
   "execution_count": 7,
   "id": "4ff5b71b",
   "metadata": {},
   "outputs": [],
   "source": [
    "%matplotlib inline\n",
    "\n",
    "for images in os.listdir(original_images):\n",
    "    \n",
    "    original_image = cv2.imread(original_images + images)\n",
    "    \n",
    "    try:\n",
    "        lr_image = cv2.resize(original_image, (32,32))\n",
    "        hr_image = cv2.resize(original_image, (128,128))\n",
    "\n",
    "        cv2.imwrite(lr_images + images, lr_image)\n",
    "        cv2.imwrite(hr_images + images, hr_image)\n",
    "    \n",
    "    except:\n",
    "        continue"
   ]
  },
  {
   "cell_type": "code",
   "execution_count": null,
   "id": "e3452c3b",
   "metadata": {},
   "outputs": [],
   "source": []
  }
 ],
 "metadata": {
  "kernelspec": {
   "display_name": "Python 3 (ipykernel)",
   "language": "python",
   "name": "python3"
  },
  "language_info": {
   "codemirror_mode": {
    "name": "ipython",
    "version": 3
   },
   "file_extension": ".py",
   "mimetype": "text/x-python",
   "name": "python",
   "nbconvert_exporter": "python",
   "pygments_lexer": "ipython3",
   "version": "3.9.13"
  }
 },
 "nbformat": 4,
 "nbformat_minor": 5
}
